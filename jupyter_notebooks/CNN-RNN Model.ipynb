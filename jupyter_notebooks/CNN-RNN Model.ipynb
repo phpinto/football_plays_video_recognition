{
 "cells": [
  {
   "cell_type": "markdown",
   "metadata": {},
   "source": [
    "# <center> CNN-RNN Deep Learning Model</center>"
   ]
  },
  {
   "cell_type": "markdown",
   "metadata": {},
   "source": [
    "## 0. Importing Libraries"
   ]
  },
  {
   "cell_type": "code",
   "execution_count": 1,
   "metadata": {},
   "outputs": [
    {
     "name": "stdout",
     "output_type": "stream",
     "text": [
      "Python 3.6.10 :: Anaconda, Inc.\r\n"
     ]
    }
   ],
   "source": [
    "!python --version\n",
    "\n",
    "import warnings\n",
    "warnings.filterwarnings('ignore')"
   ]
  },
  {
   "cell_type": "code",
   "execution_count": 2,
   "metadata": {},
   "outputs": [
    {
     "name": "stderr",
     "output_type": "stream",
     "text": [
      "Using TensorFlow backend.\n"
     ]
    }
   ],
   "source": [
    "import numpy as np \n",
    "import pandas as pd\n",
    "\n",
    "import os\n",
    "import math\n",
    "import matplotlib.pyplot as plt\n",
    "\n",
    "import keras\n",
    "from keras.utils import np_utils\n",
    "from keras.models import Model, Sequential\n",
    "from keras.applications.vgg16 import VGG16, preprocess_input\n",
    "from keras.applications.resnet50 import ResNet50\n",
    "from keras.layers import Input, Dense, GlobalAveragePooling2D, Dense, LSTM, Dropout\n",
    "from keras.layers.embeddings import Embedding\n",
    "from keras.preprocessing import sequence\n",
    "from keras.optimizers import SGD, Adam\n",
    "from keras import backend as K\n",
    "\n",
    "from sklearn.model_selection import train_test_split  \n",
    "from functools import partial\n",
    "\n",
    "%matplotlib inline\n",
    "np.random.seed(7)"
   ]
  },
  {
   "cell_type": "markdown",
   "metadata": {},
   "source": [
    "## 1. Loading Training Data"
   ]
  },
  {
   "cell_type": "code",
   "execution_count": 3,
   "metadata": {},
   "outputs": [
    {
     "name": "stdout",
     "output_type": "stream",
     "text": [
      "(5667,)\n",
      "(32, 224, 224, 3)\n"
     ]
    }
   ],
   "source": [
    "images = np.load('../data/numpy_data/images.npy', allow_pickle=True)\n",
    "print(images.shape)\n",
    "print(images[0].shape)"
   ]
  },
  {
   "cell_type": "code",
   "execution_count": 3,
   "metadata": {},
   "outputs": [
    {
     "name": "stdout",
     "output_type": "stream",
     "text": [
      "(5667, 6)\n"
     ]
    }
   ],
   "source": [
    "labels = np.load('../data/numpy_data/one_hot_labels.npy', allow_pickle=True)\n",
    "print(labels.shape)"
   ]
  },
  {
   "cell_type": "code",
   "execution_count": 4,
   "metadata": {},
   "outputs": [
    {
     "name": "stdout",
     "output_type": "stream",
     "text": [
      "(1133,)\n"
     ]
    }
   ],
   "source": [
    "indexes = np.load('../data/numpy_data/sample_indexes.npy', allow_pickle=True)\n",
    "print(indexes.shape)"
   ]
  },
  {
   "cell_type": "code",
   "execution_count": 5,
   "metadata": {},
   "outputs": [
    {
     "name": "stdout",
     "output_type": "stream",
     "text": [
      "(5667,)\n"
     ]
    }
   ],
   "source": [
    "plays = np.load('../data/numpy_data/plays.npy', allow_pickle=True)\n",
    "print(plays.shape)"
   ]
  },
  {
   "cell_type": "code",
   "execution_count": 71,
   "metadata": {},
   "outputs": [
    {
     "data": {
      "text/plain": [
       "(5465, 5)"
      ]
     },
     "execution_count": 71,
     "metadata": {},
     "output_type": "execute_result"
    }
   ],
   "source": [
    "# Code to obtain the indexes of plays from the 2017 season (very low quality) as part of our optimizations\n",
    "\n",
    "plays_df = pd.DataFrame(data=plays).apply(lambda x: x.str[:4])\n",
    "idx_2017 = plays_df[plays_df[0].isin(['6016','6017'])].index\n",
    "\n",
    "# Removing those plays form the labels array\n",
    "\n",
    "labels_df = pd.DataFrame(data=labels)\n",
    "labels_df[4][labels_df[5] == 1.0] = 1.0\n",
    "del labels_df[5]\n",
    "labels = labels_df.to_numpy()\n",
    "labels = labels[[i for i in range(len(plays)) if i not in idx_2017]]\n",
    "labels.shape"
   ]
  },
  {
   "cell_type": "markdown",
   "metadata": {},
   "source": [
    "## 2. Building the CNN using Transfer Learning"
   ]
  },
  {
   "cell_type": "code",
   "execution_count": 7,
   "metadata": {},
   "outputs": [
    {
     "name": "stdout",
     "output_type": "stream",
     "text": [
      "WARNING:tensorflow:From /Users/pedropinto/opt/anaconda3/envs/deep_learning/lib/python3.6/site-packages/keras/backend/tensorflow_backend.py:4070: The name tf.nn.max_pool is deprecated. Please use tf.nn.max_pool2d instead.\n",
      "\n"
     ]
    }
   ],
   "source": [
    "# VGG16\n",
    "\n",
    "vgg16_model = VGG16(weights='imagenet')\n",
    "vgg16_extractor = Model(inputs = vgg16_model.input,\n",
    "              outputs = vgg16_model.get_layer('fc2').output)"
   ]
  },
  {
   "cell_type": "code",
   "execution_count": 8,
   "metadata": {},
   "outputs": [],
   "source": [
    "# ResNet50\n",
    "\n",
    "resnet_model = ResNet50(weights='imagenet')\n",
    "resnet_extractor = Model(inputs = resnet_model.input,\n",
    "              outputs = resnet_model.get_layer('avg_pool').output)"
   ]
  },
  {
   "cell_type": "markdown",
   "metadata": {},
   "source": [
    "## 3. Extracting feature vectors for each frame"
   ]
  },
  {
   "cell_type": "markdown",
   "metadata": {},
   "source": [
    "### 3.1 VGG16"
   ]
  },
  {
   "cell_type": "code",
   "execution_count": 20,
   "metadata": {},
   "outputs": [
    {
     "name": "stdout",
     "output_type": "stream",
     "text": [
      "Video 1 of 5667\n",
      "Video 500 of 5667\n",
      "Video 1000 of 5667\n",
      "Video 1500 of 5667\n",
      "Video 2000 of 5667\n",
      "Video 2500 of 5667\n",
      "Video 3000 of 5667\n",
      "Video 3500 of 5667\n",
      "Video 4000 of 5667\n",
      "Video 4500 of 5667\n",
      "Video 5000 of 5667\n",
      "Video 5500 of 5667\n",
      "Video 5667 of 5667\n"
     ]
    }
   ],
   "source": [
    "vgg16_cnn_images = []\n",
    "video_num = 1\n",
    "\n",
    "for play in images:\n",
    "    if video_num % 500 == 0 or video_num == len(images) or video_num == 1:\n",
    "        print(\"Video \" + str(video_num) + \" of \" + str(len(images)))\n",
    "    vgg16_cnn_images.append(vgg16_extractor.predict(play))\n",
    "    video_num += 1\n",
    "    \n",
    "vgg16_cnn_images = np.asarray(vgg16_cnn_images)"
   ]
  },
  {
   "cell_type": "code",
   "execution_count": null,
   "metadata": {},
   "outputs": [],
   "source": [
    "print(vgg16_cnn_images.shape)\n",
    "print(vgg16_cnn_images[0].shape)"
   ]
  },
  {
   "cell_type": "code",
   "execution_count": 9,
   "metadata": {},
   "outputs": [],
   "source": [
    "# Saving the numpy array containing all the frames for each play as 4096-long featrue vectors outputed by VGG16\n",
    "\n",
    "np.save('../data/numpy_data/vgg16_cnn_images.npy', vgg16_cnn_images)"
   ]
  },
  {
   "cell_type": "code",
   "execution_count": 38,
   "metadata": {},
   "outputs": [
    {
     "name": "stdout",
     "output_type": "stream",
     "text": [
      "(5667,)\n",
      "(32, 4096)\n"
     ]
    }
   ],
   "source": [
    "vgg16_cnn_images = np.load('../data/numpy_data/vgg16_cnn_images.npy', allow_pickle=True)\n",
    "print(vgg16_cnn_images.shape)\n",
    "print(vgg16_cnn_images[0].shape)"
   ]
  },
  {
   "cell_type": "markdown",
   "metadata": {},
   "source": [
    "### 3.1 ResNet50"
   ]
  },
  {
   "cell_type": "code",
   "execution_count": 22,
   "metadata": {},
   "outputs": [
    {
     "name": "stdout",
     "output_type": "stream",
     "text": [
      "Video 1 of 5667\n",
      "Video 500 of 5667\n",
      "Video 1000 of 5667\n",
      "Video 1500 of 5667\n",
      "Video 2000 of 5667\n",
      "Video 2500 of 5667\n",
      "Video 3000 of 5667\n",
      "Video 3500 of 5667\n",
      "Video 4000 of 5667\n",
      "Video 4500 of 5667\n",
      "Video 5000 of 5667\n",
      "Video 5500 of 5667\n",
      "Video 5667 of 5667\n"
     ]
    }
   ],
   "source": [
    "resnet_cnn_images = []\n",
    "video_num = 1\n",
    "\n",
    "for play in images:\n",
    "    if video_num % 500 == 0 or video_num == len(images) or video_num == 1:\n",
    "        print(\"Video \" + str(video_num) + \" of \" + str(len(images)))\n",
    "    #resnet_cnn_images.append(resnet_extractor.predict(play))\n",
    "    video_num += 1\n",
    "    \n",
    "resnet_cnn_images = np.asarray(resnet_cnn_images)"
   ]
  },
  {
   "cell_type": "code",
   "execution_count": 11,
   "metadata": {},
   "outputs": [
    {
     "name": "stdout",
     "output_type": "stream",
     "text": [
      "(5667,)\n",
      "(32, 2048)\n"
     ]
    }
   ],
   "source": [
    "print(resnet_cnn_images.shape)\n",
    "print(resnet_cnn_images[0].shape)"
   ]
  },
  {
   "cell_type": "code",
   "execution_count": 50,
   "metadata": {},
   "outputs": [],
   "source": [
    "# Saving the numpy array containing all the frames for each play as 4096-long featrue vectors outputed by VGG16\n",
    "\n",
    "np.save('../data/numpy_data/resnet_cnn_images.npy', resnet_cnn_images)"
   ]
  },
  {
   "cell_type": "code",
   "execution_count": 6,
   "metadata": {},
   "outputs": [
    {
     "name": "stdout",
     "output_type": "stream",
     "text": [
      "(5667,)\n",
      "(32, 2048)\n"
     ]
    }
   ],
   "source": [
    "resnet_cnn_images = np.load('../data/numpy_data/resnet_cnn_images.npy', allow_pickle=True)\n",
    "print(resnet_cnn_images.shape)\n",
    "print(resnet_cnn_images[0].shape)"
   ]
  },
  {
   "cell_type": "code",
   "execution_count": 50,
   "metadata": {},
   "outputs": [
    {
     "data": {
      "text/plain": [
       "(5667,)"
      ]
     },
     "execution_count": 50,
     "metadata": {},
     "output_type": "execute_result"
    }
   ],
   "source": [
    "# Removing 2017 low quality plays form the image feature vectors array\n",
    "\n",
    "cnn_images = resnet_cnn_images[[i for i in range(len(plays)) if i not in idx_2017]]\n",
    "cnn_images.shape"
   ]
  },
  {
   "cell_type": "markdown",
   "metadata": {},
   "source": [
    "## 4. Building the LSTM Network"
   ]
  },
  {
   "cell_type": "code",
   "execution_count": 15,
   "metadata": {},
   "outputs": [],
   "source": [
    "train_idx = np.random.choice(len(cnn_images), size=int(len(cnn_images) * 0.8), replace=False)\n",
    "test_idx = list(set(train_idx) ^ set([x for x in range(len(cnn_images))]))"
   ]
  },
  {
   "cell_type": "code",
   "execution_count": 16,
   "metadata": {},
   "outputs": [],
   "source": [
    "X_train = resnet_cnn_images[train_idx]\n",
    "X_test = resnet_cnn_images[test_idx]\n",
    "\n",
    "y_train = labels[train_idx]\n",
    "y_test = labels[test_idx]"
   ]
  },
  {
   "cell_type": "code",
   "execution_count": 17,
   "metadata": {},
   "outputs": [],
   "source": [
    "X_train_pad = sequence.pad_sequences(X_train, maxlen=30)\n",
    "X_test_pad = sequence.pad_sequences(X_test, maxlen=30)"
   ]
  },
  {
   "cell_type": "code",
   "execution_count": 12,
   "metadata": {},
   "outputs": [],
   "source": [
    "# First LSTM Architecture (Not Being Used Anymore)\n",
    "model = Sequential()\n",
    "model.add(LSTM(200, return_sequences=False,input_shape=(15, 2048)))\n",
    "model.add(Dense(6, activation='sigmoid'))\n",
    "model.compile(loss='categorical_crossentropy', optimizer='adam', metrics=['accuracy'])\n",
    "history = model.fit(X_train_pad, y_train, validation_data=(X_test_pad, y_test), epochs=6, batch_size=32)\n",
    "print(model.summary())"
   ]
  },
  {
   "cell_type": "code",
   "execution_count": 241,
   "metadata": {},
   "outputs": [
    {
     "name": "stdout",
     "output_type": "stream",
     "text": [
      "Train on 4372 samples, validate on 1093 samples\n",
      "Epoch 1/8\n",
      "4372/4372 [==============================] - 14s 3ms/step - loss: 0.8933 - accuracy: 0.6430 - val_loss: 0.7531 - val_accuracy: 0.7219\n",
      "Epoch 2/8\n",
      "4372/4372 [==============================] - 12s 3ms/step - loss: 0.6501 - accuracy: 0.7571 - val_loss: 0.6124 - val_accuracy: 0.7685\n",
      "Epoch 3/8\n",
      "4372/4372 [==============================] - 11s 3ms/step - loss: 0.5952 - accuracy: 0.7827 - val_loss: 0.5336 - val_accuracy: 0.8106\n",
      "Epoch 4/8\n",
      "4372/4372 [==============================] - 11s 2ms/step - loss: 0.5191 - accuracy: 0.8150 - val_loss: 0.5192 - val_accuracy: 0.8152\n",
      "Epoch 5/8\n",
      "4372/4372 [==============================] - 11s 3ms/step - loss: 0.4529 - accuracy: 0.8474 - val_loss: 0.5372 - val_accuracy: 0.7978\n",
      "Epoch 6/8\n",
      "4372/4372 [==============================] - 12s 3ms/step - loss: 0.4221 - accuracy: 0.8614 - val_loss: 0.5088 - val_accuracy: 0.8106\n",
      "Epoch 7/8\n",
      "4372/4372 [==============================] - 11s 2ms/step - loss: 0.3804 - accuracy: 0.8781 - val_loss: 0.5121 - val_accuracy: 0.8326\n",
      "Epoch 8/8\n",
      "4372/4372 [==============================] - 11s 3ms/step - loss: 0.3457 - accuracy: 0.8925 - val_loss: 0.4961 - val_accuracy: 0.8390\n",
      "Model: \"sequential_32\"\n",
      "_________________________________________________________________\n",
      "Layer (type)                 Output Shape              Param #   \n",
      "=================================================================\n",
      "lstm_88 (LSTM)               (None, 30, 64)            540928    \n",
      "_________________________________________________________________\n",
      "lstm_89 (LSTM)               (None, 30, 64)            33024     \n",
      "_________________________________________________________________\n",
      "lstm_90 (LSTM)               (None, 64)                33024     \n",
      "_________________________________________________________________\n",
      "dense_32 (Dense)             (None, 5)                 325       \n",
      "=================================================================\n",
      "Total params: 607,301\n",
      "Trainable params: 607,301\n",
      "Non-trainable params: 0\n",
      "_________________________________________________________________\n",
      "None\n"
     ]
    }
   ],
   "source": [
    "# Second LSTM Architecture\n",
    "model = Sequential()\n",
    "model.add(LSTM(64, return_sequences=True,input_shape=(30, 2048)))\n",
    "model.add(LSTM(64, return_sequences=True))\n",
    "model.add(LSTM(64)) \n",
    "model.add(Dense(5, activation='sigmoid'))\n",
    "model.compile(loss='categorical_crossentropy', optimizer='adam', metrics=['accuracy'])\n",
    "history = model.fit(X_train_pad, y_train, validation_data=(X_test_pad, y_test), epochs=8, batch_size=32)\n",
    "print(model.summary())"
   ]
  },
  {
   "cell_type": "code",
   "execution_count": 248,
   "metadata": {},
   "outputs": [
    {
     "name": "stdout",
     "output_type": "stream",
     "text": [
      "Total Accuracy: 83.90%\n",
      "K Accuracy: 83.58%\n",
      "R Accuracy: 87.95%\n",
      "P Accuracy: 81.82%\n",
      "X/F Accuracy: 89.47%\n",
      "U Accuracy: 55.56%\n"
     ]
    }
   ],
   "source": [
    "# Checking results for specific classes\n",
    "\n",
    "#types = ['K', 'R', 'P', 'X', 'F', 'U']\n",
    "types = ['K', 'R', 'P', 'X/F', 'U']\n",
    "corrects =  [0.0 for _ in range(len(types))]\n",
    "counts = [0.0 for _ in range(len(types))]\n",
    "\n",
    "\n",
    "for idx in range(len(y_test)):\n",
    "    counts[np.argmax(y_test[idx])] += 1.0\n",
    "    pred = model.predict(X_test_pad[idx:idx+1])\n",
    "    if np.argmax(y_test[idx]) == np.argmax(pred):\n",
    "            corrects[np.argmax(y_test[idx])] += 1.0\n",
    "\n",
    "print(\"Total Accuracy: %.2f%%\" % (scores[1]*100))\n",
    "for i in range(len(types)):\n",
    "    print(types[i] + \" Accuracy: %.2f%%\" % (100 * corrects[i]/counts[i]))"
   ]
  },
  {
   "cell_type": "code",
   "execution_count": 249,
   "metadata": {},
   "outputs": [
    {
     "name": "stdout",
     "output_type": "stream",
     "text": [
      "dict_keys(['val_loss', 'val_accuracy', 'loss', 'accuracy'])\n"
     ]
    },
    {
     "data": {
      "image/png": "[encoded data removed]",
      "text/plain": [
       "<Figure size 432x288 with 1 Axes>"
      ]
     },
     "metadata": {
      "needs_background": "light"
     },
     "output_type": "display_data"
    },
    {
     "data": {
      "image/png": "[encoded data removed]",
      "text/plain": [
       "<Figure size 432x288 with 1 Axes>"
      ]
     },
     "metadata": {
      "needs_background": "light"
     },
     "output_type": "display_data"
    }
   ],
   "source": [
    "# Plotting Accuracy and Loss\n",
    "\n",
    "print(history.history.keys())\n",
    "# summarize history for accuracy\n",
    "plt.plot(history.history['accuracy'])\n",
    "plt.plot(history.history['val_accuracy'])\n",
    "plt.title('Model Accuracy')\n",
    "plt.ylabel('accuracy')\n",
    "plt.xlabel('epoch')\n",
    "plt.legend(['train', 'test'], loc='upper left')\n",
    "plt.show()\n",
    "# summarize history for loss\n",
    "plt.plot(history.history['loss'])\n",
    "plt.plot(history.history['val_loss'])\n",
    "plt.title('Model Loss')\n",
    "plt.ylabel('loss')\n",
    "plt.xlabel('epoch')\n",
    "plt.legend(['train', 'test'], loc='upper left')\n",
    "plt.show()"
   ]
  },
  {
   "cell_type": "code",
   "execution_count": 28,
   "metadata": {
    "scrolled": true
   },
   "outputs": [
    {
     "name": "stdout",
     "output_type": "stream",
     "text": [
      "7.321953729023638\n"
     ]
    }
   ],
   "source": [
    "# Calculating averatge prediction time:\n",
    "import time\n",
    "\n",
    "total_time = 0\n",
    "\n",
    "for idx in range(len(y_test)):\n",
    "    start = time.time()\n",
    "    pred = model.predict(X_test_pad[idx:idx+1])\n",
    "    total_time += (time.time() - start)\n",
    "print(1000*(total_time/(idx+1)))"
   ]
  },
  {
   "cell_type": "code",
   "execution_count": 13,
   "metadata": {},
   "outputs": [],
   "source": [
    "# Checking results for specific classes\n",
    "\n",
    "# types = ['K', 'R', 'P', 'X', 'F', 'U']\n",
    "types = ['K', 'R', 'P', 'X/F', 'U']\n",
    "correct = 0\n",
    "count = 0\n",
    "\n",
    "for idx in range(len(y_test)):\n",
    "    if types[np.argmax(y_test[idx])] == 'U':\n",
    "        count += 1\n",
    "        pred = model.predict(X_test_pad[idx:idx+1])\n",
    "        print(\"Play Type: \" + types[np.argmax(pred)])\n",
    "        print(\"Actual Type: \" + types[np.argmax(y_test[idx])])\n",
    "        print(\"Play: \" + str(plays[test_idx[idx]]))\n",
    "        print()\n",
    "        if np.argmax(y_test[idx]) == np.argmax(pred):\n",
    "            correct += 1\n",
    "acc = (correct/count) * 100\n",
    "print(\"Test Accuracy: %.2f%%\" % acc)"
   ]
  },
  {
   "cell_type": "code",
   "execution_count": 250,
   "metadata": {},
   "outputs": [],
   "source": [
    "# Saving Model\n",
    "model.save('cnn_rnn_model_final.h5')"
   ]
  }
 ],
 "metadata": {
  "kernelspec": {
   "display_name": "Python 3",
   "language": "python",
   "name": "python3"
  },
  "language_info": {
   "codemirror_mode": {
    "name": "ipython",
    "version": 3
   },
   "file_extension": ".py",
   "mimetype": "text/x-python",
   "name": "python",
   "nbconvert_exporter": "python",
   "pygments_lexer": "ipython3",
   "version": "3.6.10"
  }
 },
 "nbformat": 4,
 "nbformat_minor": 4
}
