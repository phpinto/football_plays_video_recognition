{
 "cells": [
  {
   "cell_type": "markdown",
   "metadata": {},
   "source": [
    "# <center> CNN-RNN Deep Learning Model</center>"
   ]
  },
  {
   "cell_type": "markdown",
   "metadata": {},
   "source": [
    "## 0. Importing Libraries"
   ]
  },
  {
   "cell_type": "code",
   "execution_count": 1,
   "metadata": {},
   "outputs": [
    {
     "name": "stdout",
     "output_type": "stream",
     "text": [
      "Python 3.6.10 :: Anaconda, Inc.\r\n"
     ]
    }
   ],
   "source": [
    "!python --version\n",
    "\n",
    "import warnings\n",
    "warnings.filterwarnings('ignore')"
   ]
  },
  {
   "cell_type": "code",
   "execution_count": 2,
   "metadata": {},
   "outputs": [
    {
     "name": "stderr",
     "output_type": "stream",
     "text": [
      "Using TensorFlow backend.\n"
     ]
    }
   ],
   "source": [
    "import numpy as np \n",
    "import pandas as pd\n",
    "\n",
    "import os\n",
    "import math\n",
    "import matplotlib.pyplot as plt\n",
    "\n",
    "import keras\n",
    "from keras.utils import np_utils\n",
    "from keras.models import Model, Sequential\n",
    "from keras.applications.vgg16 import VGG16, preprocess_input\n",
    "from keras.applications.resnet50 import ResNet50\n",
    "from keras.layers import Input, Dense, GlobalAveragePooling2D, Dense, LSTM, Dropout\n",
    "from keras.layers.embeddings import Embedding\n",
    "from keras.preprocessing import sequence\n",
    "from keras.optimizers import SGD, Adam\n",
    "from keras import backend as K\n",
    "\n",
    "from sklearn.model_selection import train_test_split  \n",
    "from functools import partial\n",
    "\n",
    "%matplotlib inline\n",
    "np.random.seed(7)"
   ]
  },
  {
   "cell_type": "markdown",
   "metadata": {},
   "source": [
    "## 1. Loading Training Data"
   ]
  },
  {
   "cell_type": "code",
   "execution_count": 3,
   "metadata": {},
   "outputs": [
    {
     "name": "stdout",
     "output_type": "stream",
     "text": [
      "(5667,)\n",
      "(32, 224, 224, 3)\n"
     ]
    }
   ],
   "source": [
    "images = np.load('../data/numpy_data/images.npy', allow_pickle=True)\n",
    "print(images.shape)\n",
    "print(images[0].shape)"
   ]
  },
  {
   "cell_type": "code",
   "execution_count": 14,
   "metadata": {},
   "outputs": [
    {
     "name": "stdout",
     "output_type": "stream",
     "text": [
      "(5667, 6)\n"
     ]
    }
   ],
   "source": [
    "labels = np.load('../data/numpy_data/one_hot_labels.npy', allow_pickle=True)\n",
    "print(labels.shape)"
   ]
  },
  {
   "cell_type": "code",
   "execution_count": 26,
   "metadata": {},
   "outputs": [
    {
     "name": "stdout",
     "output_type": "stream",
     "text": [
      "(1133,)\n"
     ]
    }
   ],
   "source": [
    "indexes = np.load('../data/numpy_data/sample_indexes.npy', allow_pickle=True)\n",
    "print(indexes.shape)"
   ]
  },
  {
   "cell_type": "code",
   "execution_count": 30,
   "metadata": {},
   "outputs": [
    {
     "name": "stdout",
     "output_type": "stream",
     "text": [
      "(5667,)\n"
     ]
    }
   ],
   "source": [
    "plays = np.load('../data/numpy_data/plays.npy', allow_pickle=True)\n",
    "print(plays.shape)"
   ]
  },
  {
   "cell_type": "markdown",
   "metadata": {},
   "source": [
    "## 2. Building the CNN using Transfer Learning"
   ]
  },
  {
   "cell_type": "code",
   "execution_count": 16,
   "metadata": {},
   "outputs": [],
   "source": [
    "# VGG16\n",
    "\n",
    "vgg16_model = VGG16(weights='imagenet')\n",
    "vgg16_extractor = Model(inputs = vgg16_model.input,\n",
    "              outputs = vgg16_model.get_layer('fc2').output)"
   ]
  },
  {
   "cell_type": "code",
   "execution_count": 4,
   "metadata": {},
   "outputs": [
    {
     "name": "stdout",
     "output_type": "stream",
     "text": [
      "WARNING:tensorflow:From /Users/pedropinto/opt/anaconda3/envs/deep_learning/lib/python3.6/site-packages/keras/backend/tensorflow_backend.py:4070: The name tf.nn.max_pool is deprecated. Please use tf.nn.max_pool2d instead.\n",
      "\n"
     ]
    }
   ],
   "source": [
    "# ResNet50\n",
    "\n",
    "resnet_model = ResNet50(weights='imagenet')\n",
    "resnet_extractor = Model(inputs = resnet_model.input,\n",
    "              outputs = resnet_model.get_layer('avg_pool').output)"
   ]
  },
  {
   "cell_type": "markdown",
   "metadata": {},
   "source": [
    "## 3. Extracting feature vectors for each frame"
   ]
  },
  {
   "cell_type": "markdown",
   "metadata": {},
   "source": [
    "### 3.1 VGG16"
   ]
  },
  {
   "cell_type": "code",
   "execution_count": 5,
   "metadata": {},
   "outputs": [
    {
     "name": "stdout",
     "output_type": "stream",
     "text": [
      "Video 1 of 5667\n",
      "Video 500 of 5667\n",
      "Video 1000 of 5667\n",
      "Video 1500 of 5667\n",
      "Video 2000 of 5667\n",
      "Video 2500 of 5667\n",
      "Video 3000 of 5667\n",
      "Video 3500 of 5667\n",
      "Video 4000 of 5667\n",
      "Video 4500 of 5667\n",
      "Video 5000 of 5667\n",
      "Video 5500 of 5667\n",
      "Video 5667 of 5667\n"
     ]
    }
   ],
   "source": [
    "vgg16_cnn_images = []\n",
    "video_num = 1\n",
    "\n",
    "for play in images:\n",
    "    if video_num % 500 == 0 or video_num == len(images) or video_num == 1:\n",
    "        print(\"Video \" + str(video_num) + \" of \" + str(len(images)))\n",
    "    vgg16_cnn_images.append(vgg16_extractor.predict(play))\n",
    "    video_num += 1\n",
    "    \n",
    "vgg16_cnn_images = np.asarray(vgg16_cnn_images)"
   ]
  },
  {
   "cell_type": "code",
   "execution_count": null,
   "metadata": {},
   "outputs": [],
   "source": [
    "print(vgg16_cnn_images.shape)\n",
    "print(vgg16_cnn_images[0].shape)"
   ]
  },
  {
   "cell_type": "code",
   "execution_count": 9,
   "metadata": {},
   "outputs": [],
   "source": [
    "# Saving the numpy array containing all the frames for each play as 4096-long featrue vectors outputed by VGG16\n",
    "\n",
    "np.save('../data/numpy_data/vgg16_cnn_images.npy', vgg16_cnn_images)"
   ]
  },
  {
   "cell_type": "code",
   "execution_count": 15,
   "metadata": {},
   "outputs": [
    {
     "name": "stdout",
     "output_type": "stream",
     "text": [
      "(5667,)\n",
      "(32, 4096)\n"
     ]
    }
   ],
   "source": [
    "vgg16_cnn_images = np.load('../data/numpy_data/vgg16_cnn_images.npy', allow_pickle=True)\n",
    "print(vgg16_cnn_images.shape)\n",
    "print(vgg16_cnn_images[0].shape)"
   ]
  },
  {
   "cell_type": "markdown",
   "metadata": {},
   "source": [
    "### 3.1 ResNet50"
   ]
  },
  {
   "cell_type": "code",
   "execution_count": 9,
   "metadata": {},
   "outputs": [
    {
     "name": "stdout",
     "output_type": "stream",
     "text": [
      "Video 1 of 5667\n",
      "Video 500 of 5667\n",
      "Video 1000 of 5667\n",
      "Video 1500 of 5667\n",
      "Video 2000 of 5667\n",
      "Video 2500 of 5667\n",
      "Video 3000 of 5667\n",
      "Video 3500 of 5667\n",
      "Video 4000 of 5667\n",
      "Video 4500 of 5667\n",
      "Video 5000 of 5667\n",
      "Video 5500 of 5667\n",
      "Video 5667 of 5667\n"
     ]
    }
   ],
   "source": [
    "resnet_cnn_images = []\n",
    "video_num = 1\n",
    "\n",
    "for play in images:\n",
    "    if video_num % 500 == 0 or video_num == len(images) or video_num == 1:\n",
    "        print(\"Video \" + str(video_num) + \" of \" + str(len(images)))\n",
    "    resnet_cnn_images.append(resnet_extractor.predict(play))\n",
    "    video_num += 1\n",
    "    \n",
    "resnet_cnn_images = np.asarray(resnet_cnn_images)"
   ]
  },
  {
   "cell_type": "code",
   "execution_count": 11,
   "metadata": {},
   "outputs": [
    {
     "name": "stdout",
     "output_type": "stream",
     "text": [
      "(5667,)\n",
      "(32, 2048)\n"
     ]
    }
   ],
   "source": [
    "print(resnet_cnn_images.shape)\n",
    "print(resnet_cnn_images[0].shape)"
   ]
  },
  {
   "cell_type": "code",
   "execution_count": 50,
   "metadata": {},
   "outputs": [],
   "source": [
    "# Saving the numpy array containing all the frames for each play as 4096-long featrue vectors outputed by VGG16\n",
    "\n",
    "np.save('../data/numpy_data/resnet_cnn_images.npy', resnet_cnn_images)"
   ]
  },
  {
   "cell_type": "code",
   "execution_count": 8,
   "metadata": {},
   "outputs": [
    {
     "name": "stdout",
     "output_type": "stream",
     "text": [
      "(5667,)\n",
      "(32, 4096)\n"
     ]
    }
   ],
   "source": [
    "vgg16_cnn_images = np.load('../data/numpy_data/resnet_cnn_images.npy', allow_pickle=True)\n",
    "print(resnet_cnn_images.shape)\n",
    "print(resnet_cnn_images[0].shape)"
   ]
  },
  {
   "cell_type": "markdown",
   "metadata": {},
   "source": [
    "## 4. Building the LSTM Network"
   ]
  },
  {
   "cell_type": "code",
   "execution_count": 11,
   "metadata": {},
   "outputs": [],
   "source": [
    " X_train, X_test, y_train, y_test = train_test_split(cnn_images, labels, test_size=0.2, random_state=42)"
   ]
  },
  {
   "cell_type": "code",
   "execution_count": 15,
   "metadata": {},
   "outputs": [],
   "source": [
    "train_idx = np.random.choice(len(resnet_cnn_images), size=int(len(resnet_cnn_images) * 0.8), replace=False)\n",
    "test_idx = list(set(train_idx) ^ set([x for x in range(len(resnet_cnn_images))]))"
   ]
  },
  {
   "cell_type": "code",
   "execution_count": 16,
   "metadata": {},
   "outputs": [],
   "source": [
    "X_train = resnet_cnn_images[train_idx]\n",
    "X_test = resnet_cnn_images[test_idx]\n",
    "\n",
    "y_train = labels[train_idx]\n",
    "y_test = labels[test_idx]"
   ]
  },
  {
   "cell_type": "code",
   "execution_count": 17,
   "metadata": {},
   "outputs": [],
   "source": [
    "X_train_pad = sequence.pad_sequences(X_train, maxlen=15)\n",
    "X_test_pad = sequence.pad_sequences(X_test, maxlen=15)"
   ]
  },
  {
   "cell_type": "code",
   "execution_count": 145,
   "metadata": {
    "scrolled": true
   },
   "outputs": [],
   "source": [
    "# First LSTM Architecture\n",
    "this_model = Sequential()\n",
    "this_model.add(LSTM(200, input_shape=(15, 2048)))\n",
    "this_model.add(Dense(6, activation='sigmoid'))\n",
    "this_model.compile(loss='categorical_crossentropy', optimizer='adam', metrics=['accuracy'])\n",
    "this_model.fit(X_train_pad, y_train, validation_data=(X_test_pad, y_test), epochs=6, batch_size=32)\n",
    "print(this_model.summary())"
   ]
  },
  {
   "cell_type": "code",
   "execution_count": 27,
   "metadata": {},
   "outputs": [
    {
     "name": "stdout",
     "output_type": "stream",
     "text": [
      "1134/1134 [==============================] - 1s 704us/step\n",
      "Accuracy: 77.07%\n"
     ]
    }
   ],
   "source": [
    "scores = model.evaluate(X_test_pad, y_test, verbose=1)\n",
    "print(\"Accuracy: %.2f%%\" % (scores[1]*100))"
   ]
  },
  {
   "cell_type": "code",
   "execution_count": 124,
   "metadata": {},
   "outputs": [
    {
     "name": "stdout",
     "output_type": "stream",
     "text": [
      "Train on 4533 samples, validate on 1134 samples\n",
      "Epoch 1/6\n",
      "4533/4533 [==============================] - 8s 2ms/step - loss: 1.0449 - accuracy: 0.5820 - val_loss: 0.8319 - val_accuracy: 0.7143\n",
      "Epoch 2/6\n",
      "4533/4533 [==============================] - 6s 1ms/step - loss: 0.8136 - accuracy: 0.6947 - val_loss: 0.7302 - val_accuracy: 0.7460\n",
      "Epoch 3/6\n",
      "4533/4533 [==============================] - 6s 1ms/step - loss: 0.7192 - accuracy: 0.7335 - val_loss: 0.7085 - val_accuracy: 0.7575\n",
      "Epoch 4/6\n",
      "4533/4533 [==============================] - 6s 1ms/step - loss: 0.6684 - accuracy: 0.7476 - val_loss: 0.6912 - val_accuracy: 0.7654\n",
      "Epoch 5/6\n",
      "4533/4533 [==============================] - 5s 1ms/step - loss: 0.6062 - accuracy: 0.7814 - val_loss: 0.6637 - val_accuracy: 0.7769\n",
      "Epoch 6/6\n",
      "4533/4533 [==============================] - 5s 1ms/step - loss: 0.5581 - accuracy: 0.8004 - val_loss: 0.6796 - val_accuracy: 0.7787\n",
      "Model: \"sequential_17\"\n",
      "_________________________________________________________________\n",
      "Layer (type)                 Output Shape              Param #   \n",
      "=================================================================\n",
      "lstm_41 (LSTM)               (None, 15, 64)            540928    \n",
      "_________________________________________________________________\n",
      "lstm_42 (LSTM)               (None, 15, 64)            33024     \n",
      "_________________________________________________________________\n",
      "lstm_43 (LSTM)               (None, 64)                33024     \n",
      "_________________________________________________________________\n",
      "dense_17 (Dense)             (None, 6)                 390       \n",
      "=================================================================\n",
      "Total params: 607,366\n",
      "Trainable params: 607,366\n",
      "Non-trainable params: 0\n",
      "_________________________________________________________________\n",
      "None\n"
     ]
    }
   ],
   "source": [
    "# Second LSTM Architecture\n",
    "model = Sequential()\n",
    "model.add(LSTM(64, return_sequences=True,input_shape=(15, 2048)))\n",
    "model.add(LSTM(64, return_sequences=True))\n",
    "model.add(LSTM(64)) \n",
    "model.add(Dense(6, activation='sigmoid'))\n",
    "model.compile(loss='categorical_crossentropy', optimizer='adam', metrics=['accuracy'])\n",
    "history = model.fit(X_train_pad, y_train, validation_data=(X_test_pad, y_test), epochs=6, batch_size=32)\n",
    "print(model.summary())"
   ]
  },
  {
   "cell_type": "code",
   "execution_count": 125,
   "metadata": {},
   "outputs": [
    {
     "name": "stdout",
     "output_type": "stream",
     "text": [
      "1134/1134 [==============================] - 0s 391us/step\n",
      "Accuracy: 77.87%\n"
     ]
    }
   ],
   "source": [
    "scores = model.evaluate(X_test_pad, y_test, verbose=1)\n",
    "print(\"Accuracy: %.2f%%\" % (scores[1]*100))"
   ]
  },
  {
   "cell_type": "code",
   "execution_count": 126,
   "metadata": {},
   "outputs": [
    {
     "name": "stdout",
     "output_type": "stream",
     "text": [
      "Train Accuracy: 83.90%\n",
      "Test Accuracy: 77.87%\n"
     ]
    }
   ],
   "source": [
    "# Manually Calculating Train/Test Accuracy. Yields Same results as above\n",
    "\n",
    "correct = 0\n",
    "for idx in range(len(y_train)):    \n",
    "    if np.argmax(model.predict(X_train_pad[idx:idx+1])) == np.argmax(y_train[idx]):\n",
    "        correct += 1\n",
    "acc = correct/len(y_train) * 100\n",
    "print(\"Train Accuracy: %.2f%%\" % acc) \n",
    "\n",
    "correct = 0\n",
    "for idx in range(len(y_test)):    \n",
    "    if np.argmax(model.predict(X_test_pad[idx:idx+1])) == np.argmax(y_test[idx]):\n",
    "        correct += 1\n",
    "acc = (correct/len(y_test)) * 100\n",
    "print(\"Test Accuracy: %.2f%%\" % acc)"
   ]
  },
  {
   "cell_type": "code",
   "execution_count": 136,
   "metadata": {},
   "outputs": [
    {
     "name": "stdout",
     "output_type": "stream",
     "text": [
      "dict_keys(['val_loss', 'val_accuracy', 'loss', 'accuracy'])\n"
     ]
    },
    {
     "data": {
      "image/png": "[encoded data removed]",
      "text/plain": [
       "<Figure size 432x288 with 1 Axes>"
      ]
     },
     "metadata": {
      "needs_background": "light"
     },
     "output_type": "display_data"
    },
    {
     "data": {
      "image/png": "[encoded data removed]",
      "text/plain": [
       "<Figure size 432x288 with 1 Axes>"
      ]
     },
     "metadata": {
      "needs_background": "light"
     },
     "output_type": "display_data"
    }
   ],
   "source": [
    "# Plotting Accuracy and Loss\n",
    "\n",
    "print(history.history.keys())\n",
    "# summarize history for accuracy\n",
    "plt.plot(history.history['accuracy'])\n",
    "plt.plot(history.history['val_accuracy'])\n",
    "plt.title('Model Accuracy')\n",
    "plt.ylabel('accuracy')\n",
    "plt.xlabel('epoch')\n",
    "plt.legend(['train', 'test'], loc='upper left')\n",
    "plt.show()\n",
    "# summarize history for loss\n",
    "plt.plot(history.history['loss'])\n",
    "plt.plot(history.history['val_loss'])\n",
    "plt.title('Model Loss')\n",
    "plt.ylabel('loss')\n",
    "plt.xlabel('epoch')\n",
    "plt.legend(['train', 'test'], loc='upper left')\n",
    "plt.show()"
   ]
  },
  {
   "cell_type": "code",
   "execution_count": 146,
   "metadata": {},
   "outputs": [
    {
     "name": "stdout",
     "output_type": "stream",
     "text": [
      "Play Type: X\n",
      "Actual Type: X\n",
      "Play: 399_1_010\n",
      "\n",
      "Play Type: X\n",
      "Actual Type: X\n",
      "Play: 399_2_025\n",
      "\n",
      "Play Type: X\n",
      "Actual Type: X\n",
      "Play: 399_4_077\n",
      "\n",
      "Play Type: K\n",
      "Actual Type: X\n",
      "Play: 503_3_010\n",
      "\n",
      "Play Type: X\n",
      "Actual Type: X\n",
      "Play: 504_3_021\n",
      "\n",
      "Play Type: K\n",
      "Actual Type: X\n",
      "Play: 504_3_037\n",
      "\n",
      "Play Type: X\n",
      "Actual Type: X\n",
      "Play: 778_3_033\n",
      "\n",
      "Play Type: X\n",
      "Actual Type: X\n",
      "Play: 778_4_015\n",
      "\n",
      "Play Type: X\n",
      "Actual Type: X\n",
      "Play: 778_1_029\n",
      "\n",
      "Play Type: X\n",
      "Actual Type: X\n",
      "Play: 5967_1_031\n",
      "\n",
      "Play Type: F\n",
      "Actual Type: X\n",
      "Play: 5967_4_009\n",
      "\n",
      "Play Type: P\n",
      "Actual Type: X\n",
      "Play: 5969_3_035\n",
      "\n",
      "Play Type: R\n",
      "Actual Type: X\n",
      "Play: 5972_4_003\n",
      "\n",
      "Play Type: P\n",
      "Actual Type: X\n",
      "Play: 5972_4_014\n",
      "\n",
      "Play Type: X\n",
      "Actual Type: X\n",
      "Play: 5974_3_019\n",
      "\n",
      "Play Type: X\n",
      "Actual Type: X\n",
      "Play: 5975_1_008\n",
      "\n",
      "Play Type: X\n",
      "Actual Type: X\n",
      "Play: 5975_1_018\n",
      "\n",
      "Play Type: X\n",
      "Actual Type: X\n",
      "Play: 5975_1_038\n",
      "\n",
      "Play Type: X\n",
      "Actual Type: X\n",
      "Play: 5975_2_012\n",
      "\n",
      "Play Type: X\n",
      "Actual Type: X\n",
      "Play: 5975_4_023\n",
      "\n",
      "Play Type: X\n",
      "Actual Type: X\n",
      "Play: 5976_1_005\n",
      "\n",
      "Play Type: X\n",
      "Actual Type: X\n",
      "Play: 5976_1_045\n",
      "\n",
      "Play Type: X\n",
      "Actual Type: X\n",
      "Play: 5976_2_019\n",
      "\n",
      "Play Type: X\n",
      "Actual Type: X\n",
      "Play: 5977_3_035\n",
      "\n",
      "Play Type: X\n",
      "Actual Type: X\n",
      "Play: 5977_4_041\n",
      "\n",
      "Play Type: X\n",
      "Actual Type: X\n",
      "Play: 5978_2_036\n",
      "\n",
      "Play Type: K\n",
      "Actual Type: X\n",
      "Play: 5979_1_015\n",
      "\n",
      "Play Type: X\n",
      "Actual Type: X\n",
      "Play: 5979_2_002\n",
      "\n",
      "Play Type: X\n",
      "Actual Type: X\n",
      "Play: 5980_2_029\n",
      "\n",
      "Play Type: R\n",
      "Actual Type: X\n",
      "Play: 5991_1_010\n",
      "\n",
      "Play Type: X\n",
      "Actual Type: X\n",
      "Play: 5992_1_005\n",
      "\n",
      "Play Type: X\n",
      "Actual Type: X\n",
      "Play: 5992_2_018\n",
      "\n",
      "Play Type: X\n",
      "Actual Type: X\n",
      "Play: 5993_1_037\n",
      "\n",
      "Play Type: R\n",
      "Actual Type: X\n",
      "Play: 5996_1_039\n",
      "\n",
      "Play Type: X\n",
      "Actual Type: X\n",
      "Play: 5996_3_006\n",
      "\n",
      "Play Type: X\n",
      "Actual Type: X\n",
      "Play: 5998_3_035\n",
      "\n",
      "Play Type: X\n",
      "Actual Type: X\n",
      "Play: 5999_4_001\n",
      "\n",
      "Play Type: X\n",
      "Actual Type: X\n",
      "Play: 6000_2_035\n",
      "\n",
      "Play Type: X\n",
      "Actual Type: X\n",
      "Play: 6001_1_022\n",
      "\n",
      "Play Type: F\n",
      "Actual Type: X\n",
      "Play: 6001_2_010\n",
      "\n",
      "Play Type: X\n",
      "Actual Type: X\n",
      "Play: 6003_1_006\n",
      "\n",
      "Play Type: F\n",
      "Actual Type: X\n",
      "Play: 6003_1_034\n",
      "\n",
      "Play Type: F\n",
      "Actual Type: X\n",
      "Play: 6003_2_021\n",
      "\n",
      "Play Type: R\n",
      "Actual Type: X\n",
      "Play: 6007_2_009\n",
      "\n",
      "Play Type: F\n",
      "Actual Type: X\n",
      "Play: 6009_1_003\n",
      "\n",
      "Play Type: X\n",
      "Actual Type: X\n",
      "Play: 6009_1_016\n",
      "\n",
      "Play Type: X\n",
      "Actual Type: X\n",
      "Play: 6009_3_032\n",
      "\n",
      "Play Type: X\n",
      "Actual Type: X\n",
      "Play: 6010_4_006\n",
      "\n",
      "Play Type: X\n",
      "Actual Type: X\n",
      "Play: 6011_3_022\n",
      "\n",
      "Play Type: X\n",
      "Actual Type: X\n",
      "Play: 6011_3_028\n",
      "\n",
      "Play Type: X\n",
      "Actual Type: X\n",
      "Play: 6013_3_033\n",
      "\n",
      "Play Type: X\n",
      "Actual Type: X\n",
      "Play: 6015_3_036\n",
      "\n",
      "Play Type: X\n",
      "Actual Type: X\n",
      "Play: 6013_1_010\n",
      "\n",
      "Play Type: X\n",
      "Actual Type: X\n",
      "Play: 6015_4_029\n",
      "\n",
      "Play Type: R\n",
      "Actual Type: X\n",
      "Play: 6016_3_006\n",
      "\n",
      "Test Accuracy: 72.73%\n"
     ]
    }
   ],
   "source": [
    "# Checking results for specific classes\n",
    "\n",
    "types = ['K', 'R', 'P', 'X', 'F', 'U']\n",
    "correct = 0\n",
    "count = 0\n",
    "\n",
    "for idx in range(len(y_test)):\n",
    "    if types[np.argmax(y_test[idx])] == 'X':\n",
    "        count += 1\n",
    "        pred = model.predict(X_test_pad[idx:idx+1])\n",
    "        print(\"Play Type: \" + types[np.argmax(pred)])\n",
    "        print(\"Actual Type: \" + types[np.argmax(y_test[idx])])\n",
    "        print(\"Play: \" + str(plays[test_idx[idx]]))\n",
    "        print()\n",
    "        if np.argmax(y_test[idx]) == np.argmax(pred):\n",
    "            correct += 1\n",
    "acc = (correct/count) * 100\n",
    "print(\"Test Accuracy: %.2f%%\" % acc)"
   ]
  },
  {
   "cell_type": "code",
   "execution_count": null,
   "metadata": {},
   "outputs": [],
   "source": []
  }
 ],
 "metadata": {
  "kernelspec": {
   "display_name": "Python 3",
   "language": "python",
   "name": "python3"
  },
  "language_info": {
   "codemirror_mode": {
    "name": "ipython",
    "version": 3
   },
   "file_extension": ".py",
   "mimetype": "text/x-python",
   "name": "python",
   "nbconvert_exporter": "python",
   "pygments_lexer": "ipython3",
   "version": "3.6.10"
  }
 },
 "nbformat": 4,
 "nbformat_minor": 4
}
